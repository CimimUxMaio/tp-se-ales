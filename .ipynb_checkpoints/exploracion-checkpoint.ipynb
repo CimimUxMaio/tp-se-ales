{
 "cells": [
  {
   "cell_type": "code",
   "execution_count": 1,
   "id": "4d233ad7",
   "metadata": {},
   "outputs": [
    {
     "name": "stdout",
     "output_type": "stream",
     "text": [
      "Hello, World!\n"
     ]
    }
   ],
   "source": [
    "import scripts.data as data\n",
    "\n",
    "\n",
    "temperature = data.load_temperature_data()"
   ]
  },
  {
   "cell_type": "code",
   "execution_count": null,
   "id": "bf0b13d2",
   "metadata": {},
   "outputs": [],
   "source": [
    "temperature.info()\n",
    "temperature.head()"
   ]
  }
 ],
 "metadata": {
  "kernelspec": {
   "display_name": "Python 3 (ipykernel)",
   "language": "python",
   "name": "python3"
  },
  "language_info": {
   "codemirror_mode": {
    "name": "ipython",
    "version": 3
   },
   "file_extension": ".py",
   "mimetype": "text/x-python",
   "name": "python",
   "nbconvert_exporter": "python",
   "pygments_lexer": "ipython3",
   "version": "3.11.7"
  }
 },
 "nbformat": 4,
 "nbformat_minor": 5
}
